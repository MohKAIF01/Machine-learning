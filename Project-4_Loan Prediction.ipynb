{
 "cells": [
  {
   "cell_type": "markdown",
   "id": "91d3cbe5",
   "metadata": {},
   "source": [
    "## Import Library"
   ]
  },
  {
   "cell_type": "code",
   "execution_count": 1,
   "id": "d9a79feb",
   "metadata": {},
   "outputs": [],
   "source": [
    "import pandas as pd\n",
    "import numpy as np\n",
    "import seaborn as sns\n",
    "import matplotlib.pyplot as plt\n",
    "import warnings\n",
    "warnings.filterwarnings(\"ignore\")"
   ]
  },
  {
   "cell_type": "code",
   "execution_count": 2,
   "id": "60299acf",
   "metadata": {},
   "outputs": [],
   "source": [
    "import os\n",
    "os.chdir(\"D:/\")"
   ]
  },
  {
   "cell_type": "markdown",
   "id": "410b2918",
   "metadata": {},
   "source": [
    "## Data Collection and Data Preprocessing"
   ]
  },
  {
   "cell_type": "code",
   "execution_count": 82,
   "id": "279def87",
   "metadata": {},
   "outputs": [],
   "source": [
    "# load the dataset to pandas dataframe\n",
    "df=pd.read_csv(\"train_u6lujuX_CVtuZ9i (1).csv\")"
   ]
  },
  {
   "cell_type": "code",
   "execution_count": 83,
   "id": "aa8fe152",
   "metadata": {},
   "outputs": [
    {
     "data": {
      "text/html": [
       "<div>\n",
       "<style scoped>\n",
       "    .dataframe tbody tr th:only-of-type {\n",
       "        vertical-align: middle;\n",
       "    }\n",
       "\n",
       "    .dataframe tbody tr th {\n",
       "        vertical-align: top;\n",
       "    }\n",
       "\n",
       "    .dataframe thead th {\n",
       "        text-align: right;\n",
       "    }\n",
       "</style>\n",
       "<table border=\"1\" class=\"dataframe\">\n",
       "  <thead>\n",
       "    <tr style=\"text-align: right;\">\n",
       "      <th></th>\n",
       "      <th>Loan_ID</th>\n",
       "      <th>Gender</th>\n",
       "      <th>Married</th>\n",
       "      <th>Dependents</th>\n",
       "      <th>Education</th>\n",
       "      <th>Self_Employed</th>\n",
       "      <th>ApplicantIncome</th>\n",
       "      <th>CoapplicantIncome</th>\n",
       "      <th>LoanAmount</th>\n",
       "      <th>Loan_Amount_Term</th>\n",
       "      <th>Credit_History</th>\n",
       "      <th>Property_Area</th>\n",
       "      <th>Loan_Status</th>\n",
       "    </tr>\n",
       "  </thead>\n",
       "  <tbody>\n",
       "    <tr>\n",
       "      <th>0</th>\n",
       "      <td>LP001002</td>\n",
       "      <td>Male</td>\n",
       "      <td>No</td>\n",
       "      <td>0</td>\n",
       "      <td>Graduate</td>\n",
       "      <td>No</td>\n",
       "      <td>5849</td>\n",
       "      <td>0.0</td>\n",
       "      <td>NaN</td>\n",
       "      <td>360.0</td>\n",
       "      <td>1.0</td>\n",
       "      <td>Urban</td>\n",
       "      <td>Y</td>\n",
       "    </tr>\n",
       "    <tr>\n",
       "      <th>1</th>\n",
       "      <td>LP001003</td>\n",
       "      <td>Male</td>\n",
       "      <td>Yes</td>\n",
       "      <td>1</td>\n",
       "      <td>Graduate</td>\n",
       "      <td>No</td>\n",
       "      <td>4583</td>\n",
       "      <td>1508.0</td>\n",
       "      <td>128.0</td>\n",
       "      <td>360.0</td>\n",
       "      <td>1.0</td>\n",
       "      <td>Rural</td>\n",
       "      <td>N</td>\n",
       "    </tr>\n",
       "    <tr>\n",
       "      <th>2</th>\n",
       "      <td>LP001005</td>\n",
       "      <td>Male</td>\n",
       "      <td>Yes</td>\n",
       "      <td>0</td>\n",
       "      <td>Graduate</td>\n",
       "      <td>Yes</td>\n",
       "      <td>3000</td>\n",
       "      <td>0.0</td>\n",
       "      <td>66.0</td>\n",
       "      <td>360.0</td>\n",
       "      <td>1.0</td>\n",
       "      <td>Urban</td>\n",
       "      <td>Y</td>\n",
       "    </tr>\n",
       "    <tr>\n",
       "      <th>3</th>\n",
       "      <td>LP001006</td>\n",
       "      <td>Male</td>\n",
       "      <td>Yes</td>\n",
       "      <td>0</td>\n",
       "      <td>Not Graduate</td>\n",
       "      <td>No</td>\n",
       "      <td>2583</td>\n",
       "      <td>2358.0</td>\n",
       "      <td>120.0</td>\n",
       "      <td>360.0</td>\n",
       "      <td>1.0</td>\n",
       "      <td>Urban</td>\n",
       "      <td>Y</td>\n",
       "    </tr>\n",
       "    <tr>\n",
       "      <th>4</th>\n",
       "      <td>LP001008</td>\n",
       "      <td>Male</td>\n",
       "      <td>No</td>\n",
       "      <td>0</td>\n",
       "      <td>Graduate</td>\n",
       "      <td>No</td>\n",
       "      <td>6000</td>\n",
       "      <td>0.0</td>\n",
       "      <td>141.0</td>\n",
       "      <td>360.0</td>\n",
       "      <td>1.0</td>\n",
       "      <td>Urban</td>\n",
       "      <td>Y</td>\n",
       "    </tr>\n",
       "  </tbody>\n",
       "</table>\n",
       "</div>"
      ],
      "text/plain": [
       "    Loan_ID Gender Married Dependents     Education Self_Employed  \\\n",
       "0  LP001002   Male      No          0      Graduate            No   \n",
       "1  LP001003   Male     Yes          1      Graduate            No   \n",
       "2  LP001005   Male     Yes          0      Graduate           Yes   \n",
       "3  LP001006   Male     Yes          0  Not Graduate            No   \n",
       "4  LP001008   Male      No          0      Graduate            No   \n",
       "\n",
       "   ApplicantIncome  CoapplicantIncome  LoanAmount  Loan_Amount_Term  \\\n",
       "0             5849                0.0         NaN             360.0   \n",
       "1             4583             1508.0       128.0             360.0   \n",
       "2             3000                0.0        66.0             360.0   \n",
       "3             2583             2358.0       120.0             360.0   \n",
       "4             6000                0.0       141.0             360.0   \n",
       "\n",
       "   Credit_History Property_Area Loan_Status  \n",
       "0             1.0         Urban           Y  \n",
       "1             1.0         Rural           N  \n",
       "2             1.0         Urban           Y  \n",
       "3             1.0         Urban           Y  \n",
       "4             1.0         Urban           Y  "
      ]
     },
     "execution_count": 83,
     "metadata": {},
     "output_type": "execute_result"
    }
   ],
   "source": [
    "# show Top 5 rows of dataset\n",
    "df.head()"
   ]
  },
  {
   "cell_type": "code",
   "execution_count": 5,
   "id": "eb051d03",
   "metadata": {},
   "outputs": [
    {
     "name": "stdout",
     "output_type": "stream",
     "text": [
      "<class 'pandas.core.frame.DataFrame'>\n",
      "RangeIndex: 614 entries, 0 to 613\n",
      "Data columns (total 13 columns):\n",
      " #   Column             Non-Null Count  Dtype  \n",
      "---  ------             --------------  -----  \n",
      " 0   Loan_ID            614 non-null    object \n",
      " 1   Gender             601 non-null    object \n",
      " 2   Married            611 non-null    object \n",
      " 3   Dependents         599 non-null    object \n",
      " 4   Education          614 non-null    object \n",
      " 5   Self_Employed      582 non-null    object \n",
      " 6   ApplicantIncome    614 non-null    int64  \n",
      " 7   CoapplicantIncome  614 non-null    float64\n",
      " 8   LoanAmount         592 non-null    float64\n",
      " 9   Loan_Amount_Term   600 non-null    float64\n",
      " 10  Credit_History     564 non-null    float64\n",
      " 11  Property_Area      614 non-null    object \n",
      " 12  Loan_Status        614 non-null    object \n",
      "dtypes: float64(4), int64(1), object(8)\n",
      "memory usage: 62.5+ KB\n"
     ]
    }
   ],
   "source": [
    "# show information of dataset\n",
    "df.info()"
   ]
  },
  {
   "cell_type": "code",
   "execution_count": 6,
   "id": "73e2fd23",
   "metadata": {},
   "outputs": [
    {
     "data": {
      "text/html": [
       "<div>\n",
       "<style scoped>\n",
       "    .dataframe tbody tr th:only-of-type {\n",
       "        vertical-align: middle;\n",
       "    }\n",
       "\n",
       "    .dataframe tbody tr th {\n",
       "        vertical-align: top;\n",
       "    }\n",
       "\n",
       "    .dataframe thead th {\n",
       "        text-align: right;\n",
       "    }\n",
       "</style>\n",
       "<table border=\"1\" class=\"dataframe\">\n",
       "  <thead>\n",
       "    <tr style=\"text-align: right;\">\n",
       "      <th></th>\n",
       "      <th>ApplicantIncome</th>\n",
       "      <th>CoapplicantIncome</th>\n",
       "      <th>LoanAmount</th>\n",
       "      <th>Loan_Amount_Term</th>\n",
       "      <th>Credit_History</th>\n",
       "    </tr>\n",
       "  </thead>\n",
       "  <tbody>\n",
       "    <tr>\n",
       "      <th>count</th>\n",
       "      <td>614.000000</td>\n",
       "      <td>614.000000</td>\n",
       "      <td>592.000000</td>\n",
       "      <td>600.00000</td>\n",
       "      <td>564.000000</td>\n",
       "    </tr>\n",
       "    <tr>\n",
       "      <th>mean</th>\n",
       "      <td>5403.459283</td>\n",
       "      <td>1621.245798</td>\n",
       "      <td>146.412162</td>\n",
       "      <td>342.00000</td>\n",
       "      <td>0.842199</td>\n",
       "    </tr>\n",
       "    <tr>\n",
       "      <th>std</th>\n",
       "      <td>6109.041673</td>\n",
       "      <td>2926.248369</td>\n",
       "      <td>85.587325</td>\n",
       "      <td>65.12041</td>\n",
       "      <td>0.364878</td>\n",
       "    </tr>\n",
       "    <tr>\n",
       "      <th>min</th>\n",
       "      <td>150.000000</td>\n",
       "      <td>0.000000</td>\n",
       "      <td>9.000000</td>\n",
       "      <td>12.00000</td>\n",
       "      <td>0.000000</td>\n",
       "    </tr>\n",
       "    <tr>\n",
       "      <th>25%</th>\n",
       "      <td>2877.500000</td>\n",
       "      <td>0.000000</td>\n",
       "      <td>100.000000</td>\n",
       "      <td>360.00000</td>\n",
       "      <td>1.000000</td>\n",
       "    </tr>\n",
       "    <tr>\n",
       "      <th>50%</th>\n",
       "      <td>3812.500000</td>\n",
       "      <td>1188.500000</td>\n",
       "      <td>128.000000</td>\n",
       "      <td>360.00000</td>\n",
       "      <td>1.000000</td>\n",
       "    </tr>\n",
       "    <tr>\n",
       "      <th>75%</th>\n",
       "      <td>5795.000000</td>\n",
       "      <td>2297.250000</td>\n",
       "      <td>168.000000</td>\n",
       "      <td>360.00000</td>\n",
       "      <td>1.000000</td>\n",
       "    </tr>\n",
       "    <tr>\n",
       "      <th>max</th>\n",
       "      <td>81000.000000</td>\n",
       "      <td>41667.000000</td>\n",
       "      <td>700.000000</td>\n",
       "      <td>480.00000</td>\n",
       "      <td>1.000000</td>\n",
       "    </tr>\n",
       "  </tbody>\n",
       "</table>\n",
       "</div>"
      ],
      "text/plain": [
       "       ApplicantIncome  CoapplicantIncome  LoanAmount  Loan_Amount_Term  \\\n",
       "count       614.000000         614.000000  592.000000         600.00000   \n",
       "mean       5403.459283        1621.245798  146.412162         342.00000   \n",
       "std        6109.041673        2926.248369   85.587325          65.12041   \n",
       "min         150.000000           0.000000    9.000000          12.00000   \n",
       "25%        2877.500000           0.000000  100.000000         360.00000   \n",
       "50%        3812.500000        1188.500000  128.000000         360.00000   \n",
       "75%        5795.000000        2297.250000  168.000000         360.00000   \n",
       "max       81000.000000       41667.000000  700.000000         480.00000   \n",
       "\n",
       "       Credit_History  \n",
       "count      564.000000  \n",
       "mean         0.842199  \n",
       "std          0.364878  \n",
       "min          0.000000  \n",
       "25%          1.000000  \n",
       "50%          1.000000  \n",
       "75%          1.000000  \n",
       "max          1.000000  "
      ]
     },
     "execution_count": 6,
     "metadata": {},
     "output_type": "execute_result"
    }
   ],
   "source": [
    "# show statistical maesure of dataset\n",
    "df.describe()"
   ]
  },
  {
   "cell_type": "code",
   "execution_count": 84,
   "id": "8440f5d2",
   "metadata": {},
   "outputs": [
    {
     "data": {
      "text/plain": [
       "Loan_ID               0\n",
       "Gender               13\n",
       "Married               3\n",
       "Dependents           15\n",
       "Education             0\n",
       "Self_Employed        32\n",
       "ApplicantIncome       0\n",
       "CoapplicantIncome     0\n",
       "LoanAmount           22\n",
       "Loan_Amount_Term     14\n",
       "Credit_History       50\n",
       "Property_Area         0\n",
       "Loan_Status           0\n",
       "dtype: int64"
      ]
     },
     "execution_count": 84,
     "metadata": {},
     "output_type": "execute_result"
    }
   ],
   "source": [
    "# check null values\n",
    "df.isnull().sum()"
   ]
  },
  {
   "cell_type": "code",
   "execution_count": 85,
   "id": "184de8de",
   "metadata": {},
   "outputs": [],
   "source": [
    "# drop all null values\n",
    "df=df.dropna()"
   ]
  },
  {
   "cell_type": "code",
   "execution_count": 86,
   "id": "949ca1bb",
   "metadata": {},
   "outputs": [
    {
     "data": {
      "text/plain": [
       "Loan_ID              0\n",
       "Gender               0\n",
       "Married              0\n",
       "Dependents           0\n",
       "Education            0\n",
       "Self_Employed        0\n",
       "ApplicantIncome      0\n",
       "CoapplicantIncome    0\n",
       "LoanAmount           0\n",
       "Loan_Amount_Term     0\n",
       "Credit_History       0\n",
       "Property_Area        0\n",
       "Loan_Status          0\n",
       "dtype: int64"
      ]
     },
     "execution_count": 86,
     "metadata": {},
     "output_type": "execute_result"
    }
   ],
   "source": [
    "# check null values\n",
    "df.isnull().sum()"
   ]
  },
  {
   "cell_type": "code",
   "execution_count": 10,
   "id": "71ae25ea",
   "metadata": {},
   "outputs": [
    {
     "data": {
      "text/plain": [
       "(480, 13)"
      ]
     },
     "execution_count": 10,
     "metadata": {},
     "output_type": "execute_result"
    }
   ],
   "source": [
    "# show number of rows and columns\n",
    "df.shape"
   ]
  },
  {
   "cell_type": "code",
   "execution_count": 11,
   "id": "7e3a8cd5",
   "metadata": {},
   "outputs": [
    {
     "name": "stdout",
     "output_type": "stream",
     "text": [
      "Loan_ID ['LP001003' 'LP001005' 'LP001006' 'LP001008' 'LP001011' 'LP001013'\n",
      " 'LP001014' 'LP001018' 'LP001020' 'LP001024' 'LP001028' 'LP001029'\n",
      " 'LP001030' 'LP001032' 'LP001036' 'LP001038' 'LP001043' 'LP001046'\n",
      " 'LP001047' 'LP001066' 'LP001068' 'LP001073' 'LP001086' 'LP001095'\n",
      " 'LP001097' 'LP001098' 'LP001100' 'LP001112' 'LP001114' 'LP001116'\n",
      " 'LP001119' 'LP001120' 'LP001131' 'LP001138' 'LP001144' 'LP001146'\n",
      " 'LP001151' 'LP001155' 'LP001157' 'LP001164' 'LP001179' 'LP001186'\n",
      " 'LP001194' 'LP001195' 'LP001197' 'LP001198' 'LP001199' 'LP001205'\n",
      " 'LP001206' 'LP001207' 'LP001222' 'LP001225' 'LP001228' 'LP001233'\n",
      " 'LP001238' 'LP001241' 'LP001243' 'LP001245' 'LP001248' 'LP001253'\n",
      " 'LP001255' 'LP001256' 'LP001259' 'LP001263' 'LP001265' 'LP001267'\n",
      " 'LP001275' 'LP001279' 'LP001282' 'LP001289' 'LP001310' 'LP001316'\n",
      " 'LP001318' 'LP001319' 'LP001322' 'LP001325' 'LP001327' 'LP001333'\n",
      " 'LP001334' 'LP001343' 'LP001345' 'LP001349' 'LP001367' 'LP001369'\n",
      " 'LP001379' 'LP001384' 'LP001385' 'LP001401' 'LP001404' 'LP001421'\n",
      " 'LP001422' 'LP001430' 'LP001431' 'LP001432' 'LP001439' 'LP001451'\n",
      " 'LP001473' 'LP001478' 'LP001482' 'LP001487' 'LP001488' 'LP001489'\n",
      " 'LP001491' 'LP001492' 'LP001493' 'LP001497' 'LP001498' 'LP001504'\n",
      " 'LP001507' 'LP001508' 'LP001514' 'LP001516' 'LP001518' 'LP001519'\n",
      " 'LP001520' 'LP001528' 'LP001529' 'LP001531' 'LP001532' 'LP001535'\n",
      " 'LP001536' 'LP001543' 'LP001552' 'LP001560' 'LP001562' 'LP001565'\n",
      " 'LP001570' 'LP001572' 'LP001577' 'LP001578' 'LP001579' 'LP001580'\n",
      " 'LP001586' 'LP001594' 'LP001603' 'LP001606' 'LP001608' 'LP001610'\n",
      " 'LP001616' 'LP001630' 'LP001633' 'LP001636' 'LP001637' 'LP001639'\n",
      " 'LP001640' 'LP001641' 'LP001647' 'LP001653' 'LP001656' 'LP001657'\n",
      " 'LP001658' 'LP001664' 'LP001665' 'LP001666' 'LP001673' 'LP001674'\n",
      " 'LP001677' 'LP001688' 'LP001691' 'LP001692' 'LP001693' 'LP001698'\n",
      " 'LP001699' 'LP001702' 'LP001708' 'LP001711' 'LP001713' 'LP001715'\n",
      " 'LP001716' 'LP001720' 'LP001722' 'LP001726' 'LP001736' 'LP001743'\n",
      " 'LP001744' 'LP001750' 'LP001751' 'LP001758' 'LP001761' 'LP001765'\n",
      " 'LP001776' 'LP001778' 'LP001784' 'LP001790' 'LP001792' 'LP001798'\n",
      " 'LP001800' 'LP001806' 'LP001807' 'LP001811' 'LP001813' 'LP001814'\n",
      " 'LP001819' 'LP001824' 'LP001825' 'LP001835' 'LP001836' 'LP001841'\n",
      " 'LP001843' 'LP001844' 'LP001846' 'LP001849' 'LP001854' 'LP001859'\n",
      " 'LP001868' 'LP001870' 'LP001871' 'LP001872' 'LP001875' 'LP001877'\n",
      " 'LP001882' 'LP001884' 'LP001888' 'LP001891' 'LP001892' 'LP001894'\n",
      " 'LP001896' 'LP001900' 'LP001903' 'LP001904' 'LP001907' 'LP001910'\n",
      " 'LP001914' 'LP001915' 'LP001917' 'LP001924' 'LP001925' 'LP001926'\n",
      " 'LP001931' 'LP001935' 'LP001936' 'LP001938' 'LP001940' 'LP001947'\n",
      " 'LP001953' 'LP001954' 'LP001955' 'LP001963' 'LP001964' 'LP001974'\n",
      " 'LP001977' 'LP001978' 'LP001993' 'LP001994' 'LP001996' 'LP002002'\n",
      " 'LP002004' 'LP002006' 'LP002031' 'LP002035' 'LP002050' 'LP002051'\n",
      " 'LP002053' 'LP002065' 'LP002067' 'LP002068' 'LP002082' 'LP002086'\n",
      " 'LP002087' 'LP002097' 'LP002098' 'LP002112' 'LP002114' 'LP002115'\n",
      " 'LP002116' 'LP002119' 'LP002126' 'LP002129' 'LP002131' 'LP002138'\n",
      " 'LP002139' 'LP002140' 'LP002141' 'LP002142' 'LP002143' 'LP002149'\n",
      " 'LP002151' 'LP002158' 'LP002160' 'LP002161' 'LP002170' 'LP002175'\n",
      " 'LP002180' 'LP002181' 'LP002187' 'LP002190' 'LP002191' 'LP002194'\n",
      " 'LP002197' 'LP002201' 'LP002205' 'LP002211' 'LP002219' 'LP002224'\n",
      " 'LP002225' 'LP002229' 'LP002231' 'LP002234' 'LP002236' 'LP002239'\n",
      " 'LP002244' 'LP002250' 'LP002255' 'LP002262' 'LP002265' 'LP002266'\n",
      " 'LP002277' 'LP002281' 'LP002284' 'LP002287' 'LP002288' 'LP002296'\n",
      " 'LP002297' 'LP002300' 'LP002301' 'LP002305' 'LP002308' 'LP002314'\n",
      " 'LP002315' 'LP002317' 'LP002318' 'LP002328' 'LP002332' 'LP002335'\n",
      " 'LP002337' 'LP002341' 'LP002342' 'LP002345' 'LP002347' 'LP002348'\n",
      " 'LP002361' 'LP002364' 'LP002366' 'LP002367' 'LP002368' 'LP002369'\n",
      " 'LP002370' 'LP002377' 'LP002379' 'LP002387' 'LP002390' 'LP002398'\n",
      " 'LP002403' 'LP002407' 'LP002408' 'LP002409' 'LP002418' 'LP002422'\n",
      " 'LP002429' 'LP002434' 'LP002443' 'LP002446' 'LP002448' 'LP002449'\n",
      " 'LP002453' 'LP002455' 'LP002459' 'LP002467' 'LP002472' 'LP002473'\n",
      " 'LP002484' 'LP002487' 'LP002493' 'LP002494' 'LP002500' 'LP002505'\n",
      " 'LP002515' 'LP002517' 'LP002519' 'LP002524' 'LP002527' 'LP002529'\n",
      " 'LP002531' 'LP002534' 'LP002536' 'LP002537' 'LP002541' 'LP002543'\n",
      " 'LP002544' 'LP002545' 'LP002547' 'LP002555' 'LP002556' 'LP002571'\n",
      " 'LP002582' 'LP002585' 'LP002586' 'LP002587' 'LP002600' 'LP002602'\n",
      " 'LP002603' 'LP002606' 'LP002615' 'LP002619' 'LP002622' 'LP002626'\n",
      " 'LP002634' 'LP002637' 'LP002640' 'LP002643' 'LP002648' 'LP002652'\n",
      " 'LP002659' 'LP002670' 'LP002683' 'LP002684' 'LP002689' 'LP002690'\n",
      " 'LP002692' 'LP002693' 'LP002699' 'LP002705' 'LP002706' 'LP002714'\n",
      " 'LP002716' 'LP002720' 'LP002723' 'LP002731' 'LP002734' 'LP002738'\n",
      " 'LP002739' 'LP002740' 'LP002741' 'LP002743' 'LP002755' 'LP002767'\n",
      " 'LP002768' 'LP002772' 'LP002776' 'LP002777' 'LP002785' 'LP002788'\n",
      " 'LP002789' 'LP002792' 'LP002795' 'LP002798' 'LP002804' 'LP002807'\n",
      " 'LP002813' 'LP002820' 'LP002821' 'LP002832' 'LP002836' 'LP002837'\n",
      " 'LP002840' 'LP002841' 'LP002842' 'LP002855' 'LP002862' 'LP002863'\n",
      " 'LP002868' 'LP002874' 'LP002877' 'LP002892' 'LP002893' 'LP002894'\n",
      " 'LP002911' 'LP002912' 'LP002916' 'LP002917' 'LP002926' 'LP002928'\n",
      " 'LP002931' 'LP002936' 'LP002938' 'LP002940' 'LP002941' 'LP002945'\n",
      " 'LP002948' 'LP002953' 'LP002958' 'LP002959' 'LP002961' 'LP002964'\n",
      " 'LP002974' 'LP002978' 'LP002979' 'LP002983' 'LP002984' 'LP002990']\n",
      "Gender ['Male' 'Female']\n",
      "Married ['Yes' 'No']\n",
      "Dependents ['1' '0' '2' '3+']\n",
      "Education ['Graduate' 'Not Graduate']\n",
      "Self_Employed ['No' 'Yes']\n",
      "ApplicantIncome [ 4583  3000  2583  6000  5417  2333  3036  4006 12841  3200  3073  1853\n",
      "  1299  4950  3510  4887  7660  5955  2600  9560  2799  4226  1442  3167\n",
      "  4692  3500 12500  3667  4166  3748  3600  1800  3941  5649  5821  2645\n",
      "  4000  1928  3086  4230  4616 11500  2708  2132  3366  8080  3357  2500\n",
      "  3029  2609  5726 10750  7100  4300  3208  1875  5266  3750  1000  3846\n",
      "  1378  3988  2366  8566  5695  2958  6250  3273  4133  3620  2484  1977\n",
      "  4188  1759  4288  4843  3052 11417  3800  2071  5316 14583  5568 10408\n",
      "  2137  2957 10513  2014  2718  3459  4895  3316 14999  4200  5042  6950\n",
      "  2698 11757  2330 14866  1538 10000  4860  6277  2577  9166  2281  3254\n",
      " 39999  9538  1863  7933  3089  4167  9323  2439  2237  8000  3522  5708\n",
      "  4344  3497  2045  5516  6400  4600 33846  3625 39147  2178  9328  4885\n",
      " 12000  6033  3858  4191  3125  8333 11000  4923  3917  4408  3244  3975\n",
      "  2479  3418  3430  7787  5703  3173  3850   150  3727  2221  4009  2971\n",
      "  3250  2491  3155  5500  3812  3315  5819  2510  2965  3406  6050  9703\n",
      "  6608  2882  1809  1668  3427  2661 16250  3083  6045  5250 14683  2060\n",
      "  3481  7200  5166  4095  4708  4333  2876  3237 11146  2833  2620  3900\n",
      "  2750  3993  3103  4053  3927  2301  1811  3158  3704  4124  9508  3075\n",
      "  4400  3153  2383  6875  4666  5000  1625  3762  2400 20233  2917  2927\n",
      "  2507  3399  3717  4342 15000  8666  4917  5818  4384  2935  4160  2647\n",
      "  2378  4554  2499  2625  9083  8750  2666  2423  3875  5167  4723  4750\n",
      "  6822  6216  6325 19730 15759  5185  3062  4817  3069  5391  5941  7167\n",
      "  4566  2346  5488  9167  9504  1993  3100  3180  3033  3902  1500  2889\n",
      "  2755  1963  7441  4547  2167  2213  8300 81000  3867  6096  2253  2149\n",
      "  2995  1600  1025  3246  5829  1820 14880  4606  5935  2920  2717  8624\n",
      "  6500  2425  1926 10416  7142  3660  7901  4707 37719  3466  4652  3340\n",
      "  2309  3948  2483  7085  3859  4301  3708  4354  8334  7740  3015  2947\n",
      "  3450  2653  4691  5532 16525  6700 16667  4350  3095  2083 10833  1958\n",
      "  3547 18333  2435  3691 17263  3597  3326  2895  6283   645  3159  4865\n",
      "  3814 13262  3598  6065  3283  2130  5815  2031  4683  3400  2192  5677\n",
      "  7948 17500  3775  5285  2679  6783  4281  3588 18165  6133  3617  6417\n",
      "  4608  2138  2239  2768  3358  2526  2785  3333  2454  3593  5468 10139\n",
      "  3887  4180  3675 19484  5923  5800  8799  3166  3417 16666  6125  6406\n",
      "  3229  1782  6540  1836  2787  4283  2297  2165  2726 16120  3833  6383\n",
      "  9963  5780  3676  3987  3232  2900  4106  8072  7583]\n",
      "CoapplicantIncome [1.50800000e+03 0.00000000e+00 2.35800000e+03 4.19600000e+03\n",
      " 1.51600000e+03 2.50400000e+03 1.52600000e+03 1.09680000e+04\n",
      " 7.00000000e+02 8.10600000e+03 2.84000000e+03 1.08600000e+03\n",
      " 5.62500000e+03 1.91100000e+03 2.25300000e+03 1.04000000e+03\n",
      " 1.66700000e+03 3.00000000e+03 1.45900000e+03 7.21000000e+03\n",
      " 1.66800000e+03 1.21300000e+03 2.33600000e+03 3.44000000e+03\n",
      " 2.27500000e+03 1.64400000e+03 1.16700000e+03 1.59100000e+03\n",
      " 2.20000000e+03 2.25000000e+03 2.85900000e+03 3.79600000e+03\n",
      " 3.44900000e+03 4.59500000e+03 2.25400000e+03 3.06600000e+03\n",
      " 1.87500000e+03 1.77400000e+03 4.75000000e+03 3.02200000e+03\n",
      " 4.00000000e+03 1.88100000e+03 2.53100000e+03 2.11800000e+03\n",
      " 4.16700000e+03 2.90000000e+03 5.65400000e+03 1.82000000e+03\n",
      " 2.30200000e+03 9.97000000e+02 3.54100000e+03 3.26300000e+03\n",
      " 3.80600000e+03 1.03000000e+03 1.12600000e+03 3.60000000e+03\n",
      " 7.54000000e+02 2.28300000e+03 2.14200000e+03 8.98000000e+03\n",
      " 2.01400000e+03 3.85000000e+03 1.92900000e+03 7.75000000e+03\n",
      " 3.50000000e+03 1.43000000e+03 2.08300000e+03 2.03400000e+03\n",
      " 4.48600000e+03 1.42500000e+03 1.66600000e+03 8.30000000e+02\n",
      " 3.75000000e+03 1.04100000e+03 1.28000000e+03 1.44700000e+03\n",
      " 3.33300000e+03 7.36000000e+02 1.96400000e+03 1.61900000e+03\n",
      " 1.13000000e+04 1.45100000e+03 7.25000000e+03 2.58300000e+03\n",
      " 2.50000000e+03 1.08300000e+03 1.25000000e+03 3.02100000e+03\n",
      " 9.83000000e+02 1.80000000e+03 1.77500000e+03 1.71700000e+03\n",
      " 2.79100000e+03 1.69500000e+03 2.05400000e+03 1.77900000e+03\n",
      " 1.26000000e+03 5.00000000e+03 1.98300000e+03 5.70100000e+03\n",
      " 1.30000000e+03 4.41700000e+03 4.33300000e+03 1.84300000e+03\n",
      " 1.86800000e+03 3.89000000e+03 2.16700000e+03 7.10100000e+03\n",
      " 2.10000000e+03 2.20900000e+03 3.44700000e+03 1.38700000e+03\n",
      " 1.81100000e+03 1.56000000e+03 1.85700000e+03 2.22300000e+03\n",
      " 1.84200000e+03 3.27400000e+03 2.42600000e+03 8.00000000e+02\n",
      " 9.85799988e+02 3.05300000e+03 2.00000000e+03 2.41600000e+03\n",
      " 3.33400000e+03 2.54100000e+03 2.92500000e+03 2.93400000e+03\n",
      " 1.80300000e+03 1.86300000e+03 2.40500000e+03 1.64000000e+03\n",
      " 1.89000000e+02 4.98300000e+03 2.16000000e+03 2.45100000e+03\n",
      " 1.79300000e+03 4.60000000e+03 1.58700000e+03 1.22900000e+03\n",
      " 2.45800000e+03 2.16800000e+03 6.25000000e+03 5.05000000e+02\n",
      " 3.16700000e+03 3.66700000e+03 2.33300000e+03 5.26600000e+03\n",
      " 7.87300000e+03 1.98700000e+03 9.23000000e+02 4.99600000e+03\n",
      " 4.23200000e+03 1.60000000e+03 2.41700000e+03 1.62500000e+03\n",
      " 1.40000000e+03 2.00000000e+04 2.40000000e+03 2.03300000e+03\n",
      " 3.23700000e+03 2.77300000e+03 1.41700000e+03 1.71900000e+03\n",
      " 4.30000000e+03 1.61200008e+01 2.34000000e+03 1.85100000e+03\n",
      " 5.06400000e+03 1.83300000e+03 1.99300000e+03 1.21000000e+03\n",
      " 1.71000000e+03 1.25500000e+03 1.73300000e+03 2.46600000e+03\n",
      " 2.56900000e+03 2.18800000e+03 1.66400000e+03 2.07900000e+03\n",
      " 1.50000000e+03 4.64800000e+03 1.01400000e+03 1.75000000e+03\n",
      " 3.15000000e+03 2.43600000e+03 2.15700000e+03 9.13000000e+02\n",
      " 1.70000000e+03 4.41600000e+03 3.68300000e+03 5.62400000e+03\n",
      " 1.48300000e+03 3.01300000e+03 1.28700000e+03 2.00400000e+03\n",
      " 2.03500000e+03 6.66600000e+03 3.66600000e+03 3.42800000e+03\n",
      " 1.63200000e+03 1.91500000e+03 1.74200000e+03 1.42400000e+03\n",
      " 7.16600000e+03 1.30200000e+03 3.90600000e+03 5.36000000e+02\n",
      " 2.84500000e+03 2.52400000e+03 1.95000000e+03 1.78300000e+03\n",
      " 2.01600000e+03 3.25000000e+03 4.26600000e+03 1.03200000e+03\n",
      " 2.66900000e+03 2.30600000e+03 2.42000000e+02 2.06400000e+03\n",
      " 4.61000000e+02 2.73900000e+03 2.23200000e+03 3.38370000e+04\n",
      " 1.91700000e+03 1.52200000e+03 3.41600000e+03 3.30000000e+03\n",
      " 1.00000000e+03 4.30100000e+03 1.41100000e+03 2.40000000e+02]\n",
      "LoanAmount [128.  66. 120. 141. 267.  95. 158. 168. 349.  70. 200. 114.  17. 125.\n",
      "  76. 133. 104. 315. 116. 191. 122. 110.  35.  74. 106. 320. 144. 184.\n",
      "  80.  47. 134.  44. 100. 112. 286.  97.  96. 135. 180.  99. 165. 258.\n",
      " 126. 312. 136. 172.  81. 187. 113. 176. 111. 167.  50. 210. 175. 131.\n",
      " 188.  25. 137. 115. 151. 225. 216.  94. 185. 154. 259. 194. 160. 102.\n",
      " 290.  84.  88. 242. 129.  30. 118. 152. 244. 600. 255.  98. 275. 121.\n",
      "  75.  63.  87. 101. 495.  73. 260. 108.  48. 164. 170.  83.  90. 166.\n",
      " 124.  55.  59. 127. 214. 240. 130.  60. 280. 140. 155. 123. 201. 138.\n",
      " 279. 192. 304. 150. 207. 436.  78.  54.  89. 139.  93. 132. 480.  56.\n",
      " 300. 376.  67. 117.  71. 173.  46. 228. 308. 105. 236. 570. 380. 296.\n",
      " 156. 109. 103.  45.  65.  53. 360.  62. 218. 178. 239. 143. 148. 149.\n",
      " 153. 162. 230.  86. 234. 246. 500. 119. 107. 209. 208. 243.  40. 250.\n",
      " 311. 400. 161. 324. 157. 145. 181.  26. 182. 211.   9. 186. 205.  36.\n",
      " 146. 142. 496. 253.]\n",
      "Loan_Amount_Term [360. 120. 180.  60. 300. 480. 240.  36.  84.]\n",
      "Credit_History [1. 0.]\n",
      "Property_Area ['Rural' 'Urban' 'Semiurban']\n",
      "Loan_Status ['N' 'Y']\n"
     ]
    }
   ],
   "source": [
    "# show unique value of a column\n",
    "for i in df.columns:\n",
    "    print(i,df[i].unique())"
   ]
  },
  {
   "cell_type": "code",
   "execution_count": 87,
   "id": "654bb2c8",
   "metadata": {},
   "outputs": [],
   "source": [
    "# Label Encoding\n",
    "df.replace({\"Loan_Status\":{\"N\":0,\"Y\":1}},inplace=True)"
   ]
  },
  {
   "cell_type": "code",
   "execution_count": 88,
   "id": "03cb0663",
   "metadata": {},
   "outputs": [
    {
     "data": {
      "text/html": [
       "<div>\n",
       "<style scoped>\n",
       "    .dataframe tbody tr th:only-of-type {\n",
       "        vertical-align: middle;\n",
       "    }\n",
       "\n",
       "    .dataframe tbody tr th {\n",
       "        vertical-align: top;\n",
       "    }\n",
       "\n",
       "    .dataframe thead th {\n",
       "        text-align: right;\n",
       "    }\n",
       "</style>\n",
       "<table border=\"1\" class=\"dataframe\">\n",
       "  <thead>\n",
       "    <tr style=\"text-align: right;\">\n",
       "      <th></th>\n",
       "      <th>Loan_ID</th>\n",
       "      <th>Gender</th>\n",
       "      <th>Married</th>\n",
       "      <th>Dependents</th>\n",
       "      <th>Education</th>\n",
       "      <th>Self_Employed</th>\n",
       "      <th>ApplicantIncome</th>\n",
       "      <th>CoapplicantIncome</th>\n",
       "      <th>LoanAmount</th>\n",
       "      <th>Loan_Amount_Term</th>\n",
       "      <th>Credit_History</th>\n",
       "      <th>Property_Area</th>\n",
       "      <th>Loan_Status</th>\n",
       "    </tr>\n",
       "  </thead>\n",
       "  <tbody>\n",
       "    <tr>\n",
       "      <th>1</th>\n",
       "      <td>LP001003</td>\n",
       "      <td>Male</td>\n",
       "      <td>Yes</td>\n",
       "      <td>1</td>\n",
       "      <td>Graduate</td>\n",
       "      <td>No</td>\n",
       "      <td>4583</td>\n",
       "      <td>1508.0</td>\n",
       "      <td>128.0</td>\n",
       "      <td>360.0</td>\n",
       "      <td>1.0</td>\n",
       "      <td>Rural</td>\n",
       "      <td>0</td>\n",
       "    </tr>\n",
       "    <tr>\n",
       "      <th>2</th>\n",
       "      <td>LP001005</td>\n",
       "      <td>Male</td>\n",
       "      <td>Yes</td>\n",
       "      <td>0</td>\n",
       "      <td>Graduate</td>\n",
       "      <td>Yes</td>\n",
       "      <td>3000</td>\n",
       "      <td>0.0</td>\n",
       "      <td>66.0</td>\n",
       "      <td>360.0</td>\n",
       "      <td>1.0</td>\n",
       "      <td>Urban</td>\n",
       "      <td>1</td>\n",
       "    </tr>\n",
       "    <tr>\n",
       "      <th>3</th>\n",
       "      <td>LP001006</td>\n",
       "      <td>Male</td>\n",
       "      <td>Yes</td>\n",
       "      <td>0</td>\n",
       "      <td>Not Graduate</td>\n",
       "      <td>No</td>\n",
       "      <td>2583</td>\n",
       "      <td>2358.0</td>\n",
       "      <td>120.0</td>\n",
       "      <td>360.0</td>\n",
       "      <td>1.0</td>\n",
       "      <td>Urban</td>\n",
       "      <td>1</td>\n",
       "    </tr>\n",
       "    <tr>\n",
       "      <th>4</th>\n",
       "      <td>LP001008</td>\n",
       "      <td>Male</td>\n",
       "      <td>No</td>\n",
       "      <td>0</td>\n",
       "      <td>Graduate</td>\n",
       "      <td>No</td>\n",
       "      <td>6000</td>\n",
       "      <td>0.0</td>\n",
       "      <td>141.0</td>\n",
       "      <td>360.0</td>\n",
       "      <td>1.0</td>\n",
       "      <td>Urban</td>\n",
       "      <td>1</td>\n",
       "    </tr>\n",
       "    <tr>\n",
       "      <th>5</th>\n",
       "      <td>LP001011</td>\n",
       "      <td>Male</td>\n",
       "      <td>Yes</td>\n",
       "      <td>2</td>\n",
       "      <td>Graduate</td>\n",
       "      <td>Yes</td>\n",
       "      <td>5417</td>\n",
       "      <td>4196.0</td>\n",
       "      <td>267.0</td>\n",
       "      <td>360.0</td>\n",
       "      <td>1.0</td>\n",
       "      <td>Urban</td>\n",
       "      <td>1</td>\n",
       "    </tr>\n",
       "  </tbody>\n",
       "</table>\n",
       "</div>"
      ],
      "text/plain": [
       "    Loan_ID Gender Married Dependents     Education Self_Employed  \\\n",
       "1  LP001003   Male     Yes          1      Graduate            No   \n",
       "2  LP001005   Male     Yes          0      Graduate           Yes   \n",
       "3  LP001006   Male     Yes          0  Not Graduate            No   \n",
       "4  LP001008   Male      No          0      Graduate            No   \n",
       "5  LP001011   Male     Yes          2      Graduate           Yes   \n",
       "\n",
       "   ApplicantIncome  CoapplicantIncome  LoanAmount  Loan_Amount_Term  \\\n",
       "1             4583             1508.0       128.0             360.0   \n",
       "2             3000                0.0        66.0             360.0   \n",
       "3             2583             2358.0       120.0             360.0   \n",
       "4             6000                0.0       141.0             360.0   \n",
       "5             5417             4196.0       267.0             360.0   \n",
       "\n",
       "   Credit_History Property_Area  Loan_Status  \n",
       "1             1.0         Rural            0  \n",
       "2             1.0         Urban            1  \n",
       "3             1.0         Urban            1  \n",
       "4             1.0         Urban            1  \n",
       "5             1.0         Urban            1  "
      ]
     },
     "execution_count": 88,
     "metadata": {},
     "output_type": "execute_result"
    }
   ],
   "source": [
    "# print first 5 row of columns\n",
    "df.head()"
   ]
  },
  {
   "cell_type": "code",
   "execution_count": 89,
   "id": "4b85c993",
   "metadata": {},
   "outputs": [
    {
     "data": {
      "text/plain": [
       "0     274\n",
       "2      85\n",
       "1      80\n",
       "3+     41\n",
       "Name: Dependents, dtype: int64"
      ]
     },
     "execution_count": 89,
     "metadata": {},
     "output_type": "execute_result"
    }
   ],
   "source": [
    "# dependent column value count\n",
    "df[\"Dependents\"].value_counts()"
   ]
  },
  {
   "cell_type": "code",
   "execution_count": 91,
   "id": "a742a115",
   "metadata": {},
   "outputs": [],
   "source": [
    "df=df.replace(to_replace=\"3+\",value=4)"
   ]
  },
  {
   "cell_type": "code",
   "execution_count": 92,
   "id": "535e4b1d",
   "metadata": {},
   "outputs": [
    {
     "data": {
      "text/plain": [
       "0    274\n",
       "2     85\n",
       "1     80\n",
       "4     41\n",
       "Name: Dependents, dtype: int64"
      ]
     },
     "execution_count": 92,
     "metadata": {},
     "output_type": "execute_result"
    }
   ],
   "source": [
    "df[\"Dependents\"].value_counts()"
   ]
  },
  {
   "cell_type": "markdown",
   "id": "e9d44c72",
   "metadata": {},
   "source": [
    "## Data Visualization"
   ]
  },
  {
   "cell_type": "code",
   "execution_count": 17,
   "id": "78580578",
   "metadata": {},
   "outputs": [
    {
     "data": {
      "text/plain": [
       "<AxesSubplot:xlabel='Education', ylabel='count'>"
      ]
     },
     "execution_count": 17,
     "metadata": {},
     "output_type": "execute_result"
    },
    {
     "data": {
      "image/png": "[encoded data removed]",
      "text/plain": [
       "<Figure size 432x288 with 1 Axes>"
      ]
     },
     "metadata": {
      "needs_background": "light"
     },
     "output_type": "display_data"
    }
   ],
   "source": [
    "# Education Status & Loan Status\n",
    "sns.countplot(x=\"Education\",hue=\"Loan_Status\",data=df)"
   ]
  },
  {
   "cell_type": "code",
   "execution_count": 18,
   "id": "3de141b3",
   "metadata": {},
   "outputs": [
    {
     "data": {
      "text/plain": [
       "<AxesSubplot:xlabel='Married', ylabel='count'>"
      ]
     },
     "execution_count": 18,
     "metadata": {},
     "output_type": "execute_result"
    },
    {
     "data": {
      "image/png": "[encoded data removed]",
      "text/plain": [
       "<Figure size 432x288 with 1 Axes>"
      ]
     },
     "metadata": {
      "needs_background": "light"
     },
     "output_type": "display_data"
    }
   ],
   "source": [
    "# Married Status & Loan Status\n",
    "sns.countplot(x=\"Married\",hue=\"Loan_Status\",data=df)"
   ]
  },
  {
   "cell_type": "code",
   "execution_count": 19,
   "id": "420edb10",
   "metadata": {},
   "outputs": [
    {
     "data": {
      "text/plain": [
       "<AxesSubplot:xlabel='Gender', ylabel='count'>"
      ]
     },
     "execution_count": 19,
     "metadata": {},
     "output_type": "execute_result"
    },
    {
     "data": {
      "image/png": "[encoded data removed]",
      "text/plain": [
       "<Figure size 432x288 with 1 Axes>"
      ]
     },
     "metadata": {
      "needs_background": "light"
     },
     "output_type": "display_data"
    }
   ],
   "source": [
    "# Gender Status & Loan Status\n",
    "sns.countplot(x=\"Gender\",hue=\"Loan_Status\",data=df)"
   ]
  },
  {
   "cell_type": "code",
   "execution_count": 93,
   "id": "b2e4d83f",
   "metadata": {},
   "outputs": [],
   "source": [
    "# convert categorical column to numerical value\n",
    "df.replace({\"Gender\":{\"Male\":1,\"Female\":0},\"Married\":{\"Yes\":1,\"No\":0},\"Education\":{\"Graduate\":1,\"Not Graduate\":0},\n",
    "           \"Self_Employed\":{\"Yes\":1,\"No\":0},\"Property_Area\":{\"Rural\":0,\"Urban\":2,\"Semiurban\":1}},inplace=True)"
   ]
  },
  {
   "cell_type": "code",
   "execution_count": 119,
   "id": "20ade4d6",
   "metadata": {},
   "outputs": [
    {
     "data": {
      "text/html": [
       "<div>\n",
       "<style scoped>\n",
       "    .dataframe tbody tr th:only-of-type {\n",
       "        vertical-align: middle;\n",
       "    }\n",
       "\n",
       "    .dataframe tbody tr th {\n",
       "        vertical-align: top;\n",
       "    }\n",
       "\n",
       "    .dataframe thead th {\n",
       "        text-align: right;\n",
       "    }\n",
       "</style>\n",
       "<table border=\"1\" class=\"dataframe\">\n",
       "  <thead>\n",
       "    <tr style=\"text-align: right;\">\n",
       "      <th></th>\n",
       "      <th>Loan_ID</th>\n",
       "      <th>Gender</th>\n",
       "      <th>Married</th>\n",
       "      <th>Dependents</th>\n",
       "      <th>Education</th>\n",
       "      <th>Self_Employed</th>\n",
       "      <th>ApplicantIncome</th>\n",
       "      <th>CoapplicantIncome</th>\n",
       "      <th>LoanAmount</th>\n",
       "      <th>Loan_Amount_Term</th>\n",
       "      <th>Credit_History</th>\n",
       "      <th>Property_Area</th>\n",
       "      <th>Loan_Status</th>\n",
       "    </tr>\n",
       "  </thead>\n",
       "  <tbody>\n",
       "    <tr>\n",
       "      <th>603</th>\n",
       "      <td>LP002958</td>\n",
       "      <td>1</td>\n",
       "      <td>0</td>\n",
       "      <td>0</td>\n",
       "      <td>1</td>\n",
       "      <td>0</td>\n",
       "      <td>3676</td>\n",
       "      <td>4301.0</td>\n",
       "      <td>172.0</td>\n",
       "      <td>360.0</td>\n",
       "      <td>1.0</td>\n",
       "      <td>0</td>\n",
       "      <td>1</td>\n",
       "    </tr>\n",
       "    <tr>\n",
       "      <th>604</th>\n",
       "      <td>LP002959</td>\n",
       "      <td>0</td>\n",
       "      <td>1</td>\n",
       "      <td>1</td>\n",
       "      <td>1</td>\n",
       "      <td>0</td>\n",
       "      <td>12000</td>\n",
       "      <td>0.0</td>\n",
       "      <td>496.0</td>\n",
       "      <td>360.0</td>\n",
       "      <td>1.0</td>\n",
       "      <td>1</td>\n",
       "      <td>1</td>\n",
       "    </tr>\n",
       "    <tr>\n",
       "      <th>606</th>\n",
       "      <td>LP002961</td>\n",
       "      <td>1</td>\n",
       "      <td>1</td>\n",
       "      <td>1</td>\n",
       "      <td>1</td>\n",
       "      <td>0</td>\n",
       "      <td>3400</td>\n",
       "      <td>2500.0</td>\n",
       "      <td>173.0</td>\n",
       "      <td>360.0</td>\n",
       "      <td>1.0</td>\n",
       "      <td>1</td>\n",
       "      <td>1</td>\n",
       "    </tr>\n",
       "    <tr>\n",
       "      <th>607</th>\n",
       "      <td>LP002964</td>\n",
       "      <td>1</td>\n",
       "      <td>1</td>\n",
       "      <td>2</td>\n",
       "      <td>0</td>\n",
       "      <td>0</td>\n",
       "      <td>3987</td>\n",
       "      <td>1411.0</td>\n",
       "      <td>157.0</td>\n",
       "      <td>360.0</td>\n",
       "      <td>1.0</td>\n",
       "      <td>0</td>\n",
       "      <td>1</td>\n",
       "    </tr>\n",
       "    <tr>\n",
       "      <th>608</th>\n",
       "      <td>LP002974</td>\n",
       "      <td>1</td>\n",
       "      <td>1</td>\n",
       "      <td>0</td>\n",
       "      <td>1</td>\n",
       "      <td>0</td>\n",
       "      <td>3232</td>\n",
       "      <td>1950.0</td>\n",
       "      <td>108.0</td>\n",
       "      <td>360.0</td>\n",
       "      <td>1.0</td>\n",
       "      <td>0</td>\n",
       "      <td>1</td>\n",
       "    </tr>\n",
       "    <tr>\n",
       "      <th>609</th>\n",
       "      <td>LP002978</td>\n",
       "      <td>0</td>\n",
       "      <td>0</td>\n",
       "      <td>0</td>\n",
       "      <td>1</td>\n",
       "      <td>0</td>\n",
       "      <td>2900</td>\n",
       "      <td>0.0</td>\n",
       "      <td>71.0</td>\n",
       "      <td>360.0</td>\n",
       "      <td>1.0</td>\n",
       "      <td>0</td>\n",
       "      <td>1</td>\n",
       "    </tr>\n",
       "    <tr>\n",
       "      <th>610</th>\n",
       "      <td>LP002979</td>\n",
       "      <td>1</td>\n",
       "      <td>1</td>\n",
       "      <td>4</td>\n",
       "      <td>1</td>\n",
       "      <td>0</td>\n",
       "      <td>4106</td>\n",
       "      <td>0.0</td>\n",
       "      <td>40.0</td>\n",
       "      <td>180.0</td>\n",
       "      <td>1.0</td>\n",
       "      <td>0</td>\n",
       "      <td>1</td>\n",
       "    </tr>\n",
       "    <tr>\n",
       "      <th>611</th>\n",
       "      <td>LP002983</td>\n",
       "      <td>1</td>\n",
       "      <td>1</td>\n",
       "      <td>1</td>\n",
       "      <td>1</td>\n",
       "      <td>0</td>\n",
       "      <td>8072</td>\n",
       "      <td>240.0</td>\n",
       "      <td>253.0</td>\n",
       "      <td>360.0</td>\n",
       "      <td>1.0</td>\n",
       "      <td>2</td>\n",
       "      <td>1</td>\n",
       "    </tr>\n",
       "    <tr>\n",
       "      <th>612</th>\n",
       "      <td>LP002984</td>\n",
       "      <td>1</td>\n",
       "      <td>1</td>\n",
       "      <td>2</td>\n",
       "      <td>1</td>\n",
       "      <td>0</td>\n",
       "      <td>7583</td>\n",
       "      <td>0.0</td>\n",
       "      <td>187.0</td>\n",
       "      <td>360.0</td>\n",
       "      <td>1.0</td>\n",
       "      <td>2</td>\n",
       "      <td>1</td>\n",
       "    </tr>\n",
       "    <tr>\n",
       "      <th>613</th>\n",
       "      <td>LP002990</td>\n",
       "      <td>0</td>\n",
       "      <td>0</td>\n",
       "      <td>0</td>\n",
       "      <td>1</td>\n",
       "      <td>1</td>\n",
       "      <td>4583</td>\n",
       "      <td>0.0</td>\n",
       "      <td>133.0</td>\n",
       "      <td>360.0</td>\n",
       "      <td>0.0</td>\n",
       "      <td>1</td>\n",
       "      <td>0</td>\n",
       "    </tr>\n",
       "  </tbody>\n",
       "</table>\n",
       "</div>"
      ],
      "text/plain": [
       "      Loan_ID  Gender  Married Dependents  Education  Self_Employed  \\\n",
       "603  LP002958       1        0          0          1              0   \n",
       "604  LP002959       0        1          1          1              0   \n",
       "606  LP002961       1        1          1          1              0   \n",
       "607  LP002964       1        1          2          0              0   \n",
       "608  LP002974       1        1          0          1              0   \n",
       "609  LP002978       0        0          0          1              0   \n",
       "610  LP002979       1        1          4          1              0   \n",
       "611  LP002983       1        1          1          1              0   \n",
       "612  LP002984       1        1          2          1              0   \n",
       "613  LP002990       0        0          0          1              1   \n",
       "\n",
       "     ApplicantIncome  CoapplicantIncome  LoanAmount  Loan_Amount_Term  \\\n",
       "603             3676             4301.0       172.0             360.0   \n",
       "604            12000                0.0       496.0             360.0   \n",
       "606             3400             2500.0       173.0             360.0   \n",
       "607             3987             1411.0       157.0             360.0   \n",
       "608             3232             1950.0       108.0             360.0   \n",
       "609             2900                0.0        71.0             360.0   \n",
       "610             4106                0.0        40.0             180.0   \n",
       "611             8072              240.0       253.0             360.0   \n",
       "612             7583                0.0       187.0             360.0   \n",
       "613             4583                0.0       133.0             360.0   \n",
       "\n",
       "     Credit_History  Property_Area  Loan_Status  \n",
       "603             1.0              0            1  \n",
       "604             1.0              1            1  \n",
       "606             1.0              1            1  \n",
       "607             1.0              0            1  \n",
       "608             1.0              0            1  \n",
       "609             1.0              0            1  \n",
       "610             1.0              0            1  \n",
       "611             1.0              2            1  \n",
       "612             1.0              2            1  \n",
       "613             0.0              1            0  "
      ]
     },
     "execution_count": 119,
     "metadata": {},
     "output_type": "execute_result"
    }
   ],
   "source": [
    "# show Top 5 rows\n",
    "df.tail(10)"
   ]
  },
  {
   "cell_type": "code",
   "execution_count": 95,
   "id": "25605096",
   "metadata": {},
   "outputs": [],
   "source": [
    "# separating the data and label\n",
    "x=df.drop([\"Loan_ID\",\"Loan_Status\"],axis=1)\n",
    "y=df.Loan_Status"
   ]
  },
  {
   "cell_type": "code",
   "execution_count": 96,
   "id": "afd83b3a",
   "metadata": {},
   "outputs": [
    {
     "name": "stdout",
     "output_type": "stream",
     "text": [
      "   Gender  Married Dependents  Education  Self_Employed  ApplicantIncome  \\\n",
      "1       1        1          1          1              0             4583   \n",
      "2       1        1          0          1              1             3000   \n",
      "3       1        1          0          0              0             2583   \n",
      "4       1        0          0          1              0             6000   \n",
      "5       1        1          2          1              1             5417   \n",
      "\n",
      "   CoapplicantIncome  LoanAmount  Loan_Amount_Term  Credit_History  \\\n",
      "1             1508.0       128.0             360.0             1.0   \n",
      "2                0.0        66.0             360.0             1.0   \n",
      "3             2358.0       120.0             360.0             1.0   \n",
      "4                0.0       141.0             360.0             1.0   \n",
      "5             4196.0       267.0             360.0             1.0   \n",
      "\n",
      "   Property_Area  \n",
      "1              0  \n",
      "2              2  \n",
      "3              2  \n",
      "4              2  \n",
      "5              2  \n",
      "1    0\n",
      "2    1\n",
      "3    1\n",
      "4    1\n",
      "5    1\n",
      "Name: Loan_Status, dtype: int64\n"
     ]
    }
   ],
   "source": [
    "print(x.head())\n",
    "print(y.head())"
   ]
  },
  {
   "cell_type": "markdown",
   "id": "76caa784",
   "metadata": {},
   "source": [
    "## Train Test Split"
   ]
  },
  {
   "cell_type": "code",
   "execution_count": 97,
   "id": "dc60d0bb",
   "metadata": {},
   "outputs": [],
   "source": [
    "# Load train test split library\n",
    "from sklearn.model_selection import train_test_split\n",
    "x_train,x_test,y_train,y_test=train_test_split(x,y,test_size=0.1,stratify=y,random_state=2)"
   ]
  },
  {
   "cell_type": "code",
   "execution_count": 98,
   "id": "c1957487",
   "metadata": {},
   "outputs": [
    {
     "name": "stdout",
     "output_type": "stream",
     "text": [
      "(480, 11) (432, 11) (48, 11)\n"
     ]
    }
   ],
   "source": [
    "print(x.shape,x_train.shape,x_test.shape)"
   ]
  },
  {
   "cell_type": "markdown",
   "id": "e6ccc442",
   "metadata": {},
   "source": [
    "## Training the Model\n",
    "## Support Vector Machine Model"
   ]
  },
  {
   "cell_type": "code",
   "execution_count": 99,
   "id": "75f7a48a",
   "metadata": {},
   "outputs": [],
   "source": [
    "# load support vector machine library\n",
    "from sklearn.svm import SVC\n",
    "svm=SVC(kernel=\"linear\")"
   ]
  },
  {
   "cell_type": "code",
   "execution_count": 100,
   "id": "5a1aaaca",
   "metadata": {},
   "outputs": [
    {
     "data": {
      "text/plain": [
       "SVC(kernel='linear')"
      ]
     },
     "execution_count": 100,
     "metadata": {},
     "output_type": "execute_result"
    }
   ],
   "source": [
    "# training the Support vector machine model\n",
    "svm.fit(x_train,y_train)"
   ]
  },
  {
   "cell_type": "markdown",
   "id": "b70700fd",
   "metadata": {},
   "source": [
    "## Model Evaluation"
   ]
  },
  {
   "cell_type": "code",
   "execution_count": 101,
   "id": "c4fffd99",
   "metadata": {},
   "outputs": [],
   "source": [
    "from sklearn.metrics import accuracy_score"
   ]
  },
  {
   "cell_type": "code",
   "execution_count": 102,
   "id": "57622d04",
   "metadata": {},
   "outputs": [],
   "source": [
    "# accuracy score on training data\n",
    "y_train_pred=svm.predict(x_train)\n",
    "training_data_accuracy=accuracy_score(y_train,y_train_pred)"
   ]
  },
  {
   "cell_type": "code",
   "execution_count": 103,
   "id": "55bb2b0b",
   "metadata": {},
   "outputs": [
    {
     "name": "stdout",
     "output_type": "stream",
     "text": [
      "Accuracy Score on Training Data: 0.7986111111111112\n"
     ]
    }
   ],
   "source": [
    "print(\"Accuracy Score on Training Data:\",training_data_accuracy)"
   ]
  },
  {
   "cell_type": "code",
   "execution_count": 104,
   "id": "5af7276b",
   "metadata": {},
   "outputs": [],
   "source": [
    "# accuracy score on test data\n",
    "y_test_pred=svm.predict(x_test)\n",
    "test_data_accuracy=accuracy_score(y_test,y_test_pred)"
   ]
  },
  {
   "cell_type": "code",
   "execution_count": 105,
   "id": "96ba532b",
   "metadata": {},
   "outputs": [
    {
     "name": "stdout",
     "output_type": "stream",
     "text": [
      "Accuracy Score on Test Data: 0.8333333333333334\n"
     ]
    }
   ],
   "source": [
    "print(\"Accuracy Score on Test Data:\",test_data_accuracy)"
   ]
  },
  {
   "cell_type": "markdown",
   "id": "80888e31",
   "metadata": {},
   "source": [
    "## Making a Predictive System"
   ]
  },
  {
   "cell_type": "code",
   "execution_count": 132,
   "id": "17c21cdf",
   "metadata": {},
   "outputs": [
    {
     "name": "stdout",
     "output_type": "stream",
     "text": [
      "[1]\n",
      "This Person get Loan\n"
     ]
    }
   ],
   "source": [
    "input_data=(1,1,1,1,0,8072,240.0,253.0,360.0,1.0,2)\n",
    "\n",
    "# changing the input data to a numpy array\n",
    "input_data_numpy_array=np.asarray(input_data)\n",
    "\n",
    "# reshape the numpy array as we are predicting\n",
    "input_data_reshape=input_data_numpy_array.reshape(1,-1)\n",
    "\n",
    "# predicion input data\n",
    "prediction=svm.predict(input_data_reshape)\n",
    "print(prediction)\n",
    "\n",
    "if(prediction[0]==0):\n",
    "    print(\"This Person not get Loan\")\n",
    "else:\n",
    "    print(\"This Person get Loan\")"
   ]
  },
  {
   "cell_type": "code",
   "execution_count": null,
   "id": "96936cd5",
   "metadata": {},
   "outputs": [],
   "source": []
  }
 ],
 "metadata": {
  "kernelspec": {
   "display_name": "Python 3",
   "language": "python",
   "name": "python3"
  },
  "language_info": {
   "codemirror_mode": {
    "name": "ipython",
    "version": 3
   },
   "file_extension": ".py",
   "mimetype": "text/x-python",
   "name": "python",
   "nbconvert_exporter": "python",
   "pygments_lexer": "ipython3",
   "version": "3.8.8"
  }
 },
 "nbformat": 4,
 "nbformat_minor": 5
}
